{
 "cells": [
  {
   "cell_type": "code",
   "execution_count": null,
   "id": "002e1d71-4663-42b4-aa84-a263c8caa8f9",
   "metadata": {},
   "outputs": [],
   "source": [
    "import pandas as pd\n",
    "df = pd.read_excel(\"/Users/sanjaykumar/Downloads/Nut_Merchant_sales.xlsx\")\n",
    "df.head()"
   ]
  },
  {
   "cell_type": "code",
   "execution_count": null,
   "id": "1dc54658-611b-47f9-824d-7b787ebe96ab",
   "metadata": {},
   "outputs": [],
   "source": [
    "df.describe()"
   ]
  },
  {
   "cell_type": "code",
   "execution_count": null,
   "id": "2a6c54f1-7c8f-4955-abf2-23f2f57f3045",
   "metadata": {},
   "outputs": [],
   "source": [
    "df.info()"
   ]
  },
  {
   "cell_type": "code",
   "execution_count": null,
   "id": "a67753ff-b63c-4d52-94ed-ceabef40b47f",
   "metadata": {},
   "outputs": [],
   "source": [
    "df_unique = df.drop_duplicates(subset='Order ID', keep='first')"
   ]
  },
  {
   "cell_type": "code",
   "execution_count": null,
   "id": "ddac25b1-a504-4842-8bd6-25acfc328a75",
   "metadata": {
    "scrolled": true
   },
   "outputs": [],
   "source": [
    "print(df_unique.columns.tolist())"
   ]
  },
  {
   "cell_type": "code",
   "execution_count": null,
   "id": "a17c1d49-3f53-4846-a031-8878f8f03b86",
   "metadata": {},
   "outputs": [],
   "source": [
    "df['Qty'] = pd.to_numeric(df['Qty'], errors='coerce')"
   ]
  },
  {
   "cell_type": "code",
   "execution_count": null,
   "id": "a2d0675b-bdc7-45bc-8837-c386fd14aa98",
   "metadata": {},
   "outputs": [],
   "source": [
    "df_cleaned = df.dropna(subset=['Qty'])"
   ]
  },
  {
   "cell_type": "code",
   "execution_count": null,
   "id": "376aad6a-b637-4744-8d8d-55665e972f87",
   "metadata": {},
   "outputs": [],
   "source": [
    "df['Unit Price (₹)'] = pd.to_numeric(df['Unit Price (₹)'], errors='coerce')\n",
    "df = df.dropna(subset=['Unit Price (₹)'])"
   ]
  },
  {
   "cell_type": "code",
   "execution_count": null,
   "id": "383b713f-cbd1-4b8c-95b2-999cff768db5",
   "metadata": {},
   "outputs": [],
   "source": [
    "df.reset_index(drop=True, inplace=True)"
   ]
  },
  {
   "cell_type": "code",
   "execution_count": null,
   "id": "e03cd6df-0648-45ef-a61b-c2cdcae0193a",
   "metadata": {},
   "outputs": [],
   "source": [
    "print(df.dtypes)         \n",
    "print(df.head())         "
   ]
  },
  {
   "cell_type": "code",
   "execution_count": null,
   "id": "38353905-e8da-467c-8808-5f3c6f564c3f",
   "metadata": {},
   "outputs": [],
   "source": [
    "df = df.drop( 'Is Combo?', axis=1)"
   ]
  },
  {
   "cell_type": "code",
   "execution_count": null,
   "id": "c0c5894b-426c-4838-b573-70e0a3049c55",
   "metadata": {},
   "outputs": [],
   "source": [
    "print(df.columns) "
   ]
  },
  {
   "cell_type": "code",
   "execution_count": null,
   "id": "1daa0370-0d9f-4925-b510-d62c3b05b8eb",
   "metadata": {},
   "outputs": [],
   "source": [
    "import pandas as pd\n",
    "import numpy as np\n",
    "\n",
    "month_map = {\n",
    "    'Aug': '2023-08-15',\n",
    "    'Sep': '2023-09-15',\n",
    "    'Oct': '2023-10-15',\n",
    "    'Nov': '2023-11-15',\n",
    "    'Dec': '2023-12-15',\n",
    "    'Jan': '2024-01-15',\n",
    "    'Feb': '2024-02-15',\n",
    "    'Mar': '2024-03-15'\n",
    "}\n",
    "\n",
    "df['Date'] = df['Month'].map(month_map)\n",
    "df['Date'] = pd.to_datetime(df['Date'])\n"
   ]
  },
  {
   "cell_type": "code",
   "execution_count": null,
   "id": "e3fe64d2-81d1-44d7-a773-f24168438dd5",
   "metadata": {},
   "outputs": [],
   "source": [
    "df['Amount'] = df['Qty'] * df['Unit Price (₹)']\n",
    "orders = df.groupby(['Order ID', 'Customer Name']).agg({\n",
    "    'Date': 'max',\n",
    "    'Amount': 'sum'\n",
    "}).reset_index()\n"
   ]
  },
  {
   "cell_type": "code",
   "execution_count": null,
   "id": "1780ab20-69c3-429c-a8a4-6e14230148bf",
   "metadata": {},
   "outputs": [],
   "source": [
    "# Setting reference date as last date in dataset\n",
    "snapshot_date = orders['Date'].max() + pd.Timedelta(days=1)\n",
    "\n",
    "rfm = orders.groupby('Customer Name').agg({\n",
    "    'Date': lambda x: (snapshot_date - x.max()).days,  # Recency\n",
    "    'Order ID': 'count',                               # Frequency\n",
    "    'Amount': 'sum'                                    # Monetary\n",
    "}).rename(columns={\n",
    "    'Date': 'Recency',\n",
    "    'Order ID': 'Frequency',\n",
    "    'Amount': 'Monetary'\n",
    "}).reset_index()\n"
   ]
  },
  {
   "cell_type": "code",
   "execution_count": null,
   "id": "2546ff56-68a5-40aa-9ad0-c5f008e31224",
   "metadata": {},
   "outputs": [],
   "source": [
    "monthly_revenue = df.groupby('Month')['Amount'].sum().reset_index()"
   ]
  },
  {
   "cell_type": "code",
   "execution_count": null,
   "id": "42d3a4dc-6850-47ba-9c6d-3a5919b9678c",
   "metadata": {},
   "outputs": [],
   "source": [
    "repeat_customers = df['Customer Name'].value_counts()\n",
    "repeat_buyers = repeat_customers[repeat_customers > 1].count()\n",
    "total_customers = df['Customer Name'].nunique()\n",
    "repeat_rate = repeat_buyers / total_customers\n",
    "print(f\"Repeat Buyer Rate: {repeat_rate:.2%}\")"
   ]
  },
  {
   "cell_type": "code",
   "execution_count": null,
   "id": "03f36ce2-0ea1-458c-855c-e40112151080",
   "metadata": {},
   "outputs": [],
   "source": [
    "df.head()"
   ]
  },
  {
   "cell_type": "code",
   "execution_count": null,
   "id": "f659475d-40d8-4059-98fa-a886c05ca4d7",
   "metadata": {},
   "outputs": [],
   "source": [
    "# Grouping by Product Name and summing the Qty\n",
    "product_sales_df = df.groupby('Product Name')['Qty'].sum().sort_values(ascending=False).reset_index()\n",
    "\n",
    "# Renaming columns\n",
    "product_sales_df.columns = ['Product Name', 'Total Units Sold']\n",
    "product_sales_df"
   ]
  },
  {
   "cell_type": "code",
   "execution_count": null,
   "id": "b251bf45-a600-4e72-b393-eaed91fcd584",
   "metadata": {},
   "outputs": [],
   "source": [
    "df[product_cols].applymap(type).nunique()"
   ]
  },
  {
   "cell_type": "code",
   "execution_count": null,
   "id": "ca3902a8-03aa-4abe-a55b-ef381c6e2a5f",
   "metadata": {},
   "outputs": [],
   "source": [
    "df['Qty'] = pd.to_numeric(df['Qty'], errors='coerce')\n",
    "df['Unit Price (₹)'] = pd.to_numeric(df['Unit Price (₹)'], errors='coerce')"
   ]
  },
  {
   "cell_type": "code",
   "execution_count": null,
   "id": "2924c430-b6a2-4f6c-bda0-ae83988fa9cb",
   "metadata": {},
   "outputs": [],
   "source": [
    "df['Amount'] = df['Qty'] * df['Unit Price (₹)']"
   ]
  },
  {
   "cell_type": "code",
   "execution_count": null,
   "id": "634d49c6-317a-49ba-a464-bfae37476623",
   "metadata": {},
   "outputs": [],
   "source": [
    "product_sales = df.groupby('Product Name')['Qty'].sum().sort_values(ascending=False)\n",
    "product_sales_df = product_sales.reset_index()\n",
    "product_sales_df.columns = ['Product Name', 'Total Units Sold']"
   ]
  },
  {
   "cell_type": "code",
   "execution_count": null,
   "id": "e60781ca-e571-4e18-b18c-4504e737fb03",
   "metadata": {},
   "outputs": [],
   "source": [
    "product_revenue = df.groupby('Product Name')['Amount'].sum().sort_values(ascending=False)\n",
    "product_revenue_df = product_revenue.reset_index()\n",
    "product_revenue_df.columns = ['Product Name', 'Total Revenue (₹)']"
   ]
  },
  {
   "cell_type": "code",
   "execution_count": null,
   "id": "81bdb973-ab68-43a6-9737-e0e998c1f461",
   "metadata": {},
   "outputs": [],
   "source": [
    "product_analysis_df = pd.merge(product_sales_df, product_revenue_df, on='Product Name')\n",
    "product_analysis_df"
   ]
  },
  {
   "cell_type": "code",
   "execution_count": null,
   "id": "56d082a0-566a-4a94-88af-5e4c3551f8be",
   "metadata": {},
   "outputs": [],
   "source": [
    "print(\"Rows before cleaning:\", len(df))\n",
    "\n",
    "df['Qty'] = pd.to_numeric(df['Qty'], errors='coerce')\n",
    "df['Unit Price (₹)'] = pd.to_numeric(df['Unit Price (₹)'], errors='coerce')\n",
    "\n",
    "df_cleaned = df.dropna(subset=['Qty', 'Unit Price (₹)'])\n",
    "\n",
    "print(\"Rows after cleaning:\", len(df_cleaned))"
   ]
  },
  {
   "cell_type": "code",
   "execution_count": null,
   "id": "e373d42e-f816-4fb3-86e8-b97ff81778b5",
   "metadata": {},
   "outputs": [],
   "source": [
    "df_cleaned['Amount'] = df_cleaned['Qty'] * df_cleaned['Unit Price (₹)']"
   ]
  },
  {
   "cell_type": "code",
   "execution_count": null,
   "id": "65ad5477-8643-44c1-8dd1-fb53691e54d5",
   "metadata": {
    "scrolled": true
   },
   "outputs": [],
   "source": [
    "product_sales = df_cleaned.groupby('Product Name')['Qty'].sum().sort_values(ascending=False)\n",
    "product_sales_df = product_sales.reset_index()\n",
    "product_sales_df.columns = ['Product Name', 'Total Units Sold']\n",
    "\n",
    "product_revenue = df_cleaned.groupby('Product Name')['Amount'].sum().sort_values(ascending=False)\n",
    "product_revenue_df = product_revenue.reset_index()\n",
    "product_revenue_df.columns = ['Product Name', 'Total Revenue (₹)']\n",
    "\n",
    "product_analysis_df = pd.merge(product_sales_df, product_revenue_df, on='Product Name')\n",
    "product_analysis_df"
   ]
  },
  {
   "cell_type": "code",
   "execution_count": null,
   "id": "aaeb2cc1-c9ea-4947-81c1-dce07ab0614e",
   "metadata": {},
   "outputs": [],
   "source": [
    "df_cleaned[['Product Name', 'Qty', 'Unit Price (₹)', 'Amount']].head(10) "
   ]
  },
  {
   "cell_type": "code",
   "execution_count": null,
   "id": "0fe3a8b6-9f87-4299-8044-0cd362932ccb",
   "metadata": {},
   "outputs": [],
   "source": [
    "import matplotlib.pyplot as plt\n",
    "\n",
    "top_qty = product_analysis_df.sort_values(by='Total Units Sold', ascending=False).head(10)\n",
    "\n",
    "plt.figure(figsize=(10, 6))\n",
    "plt.barh(top_qty['Product Name'], top_qty['Total Units Sold'], color='teal')\n",
    "plt.xlabel('Total Units Sold')\n",
    "plt.title('Top 10 Products by Quantity Sold')\n",
    "plt.gca().invert_yaxis()\n",
    "plt.tight_layout()\n",
    "plt.show()\n"
   ]
  },
  {
   "cell_type": "code",
   "execution_count": null,
   "id": "1dded228-6b28-4423-af7b-b3dde5178b6b",
   "metadata": {},
   "outputs": [],
   "source": [
    "top_revenue = product_analysis_df.sort_values(by='Total Revenue (₹)', ascending=False).head(10)\n",
    "\n",
    "plt.figure(figsize=(10, 6))\n",
    "plt.barh(top_revenue['Product Name'], top_revenue['Total Revenue (₹)'], color='orange')\n",
    "plt.xlabel('Total Revenue (₹)')\n",
    "plt.title('Top 10 Products by Revenue')\n",
    "plt.gca().invert_yaxis()\n",
    "plt.tight_layout()\n",
    "plt.show()"
   ]
  },
  {
   "cell_type": "code",
   "execution_count": null,
   "id": "82cdbfc7-9033-40c0-814e-3dce8137f2ae",
   "metadata": {},
   "outputs": [],
   "source": [
    "print(df.columns.tolist())"
   ]
  },
  {
   "cell_type": "code",
   "execution_count": null,
   "id": "d2fe63d9-7d13-46f4-83e4-13a827d506b0",
   "metadata": {},
   "outputs": [],
   "source": [
    "print(\"Unique values in 'Product Name':\", df['Product Name'].dropna().unique())\n",
    "print(\"Unique values in 'Combo Name':\", df['Combo Name'].dropna().unique())"
   ]
  },
  {
   "cell_type": "code",
   "execution_count": null,
   "id": "58109d08-bbf8-4760-b2cd-45e530c7ea83",
   "metadata": {},
   "outputs": [],
   "source": [
    "print(df.columns)  # Confirming if 'Product Name' is present\n",
    "\n",
    "# Checking null values\n",
    "print(df['Product Name'].isnull().sum())\n",
    "print(df[['Product Name']].drop_duplicates().head(10))"
   ]
  },
  {
   "cell_type": "code",
   "execution_count": null,
   "id": "787fa3c8-60f2-49fe-9b90-bab1c509dce4",
   "metadata": {},
   "outputs": [],
   "source": [
    "df['Month'] = df['Date'].dt.to_period('M')\n",
    "\n",
    "monthly_sales = df.groupby('Month')['Amount'].sum().reset_index()\n",
    "monthly_sales.columns = ['Month', 'Total Revenue']\n",
    "\n",
    "monthly_sales"
   ]
  },
  {
   "cell_type": "code",
   "execution_count": null,
   "id": "7e29465e-5cbe-49d1-9181-264d790fb7a4",
   "metadata": {},
   "outputs": [],
   "source": [
    "buyer_counts = df.groupby('Customer Name')['Order ID'].nunique().sort_values(ascending=False).reset_index()\n",
    "buyer_counts.columns = ['Customer Name', 'Order Count']\n",
    "\n",
    "buyer_counts.head(10)"
   ]
  },
  {
   "cell_type": "code",
   "execution_count": null,
   "id": "90db4c80-5d07-46c2-9ea4-3be485854f00",
   "metadata": {},
   "outputs": [],
   "source": [
    "combo_sales = df[df['Combo Name'].notna()].groupby('Combo Name')['Amount'].sum().sort_values(ascending=False).reset_index()\n",
    "combo_sales.columns = ['Combo Name', 'Total Sales']\n",
    "\n",
    "combo_sales"
   ]
  },
  {
   "cell_type": "code",
   "execution_count": null,
   "id": "c51cdee7-0c57-4d4c-8825-dd1cb81b0429",
   "metadata": {},
   "outputs": [],
   "source": [
    "from datetime import datetime\n",
    "\n",
    "# Ensure 'Date' is datetime\n",
    "df['Date'] = pd.to_datetime(df['Date'], errors='coerce')\n",
    "\n",
    "# Create latest purchase date\n",
    "latest_date = df['Date'].max()\n",
    "\n",
    "# RFM aggregation\n",
    "rfm = df.groupby('Customer Name').agg({\n",
    "    'Date': lambda x: (latest_date - x.max()).days,   # Recency\n",
    "    'Order ID': 'nunique',                             # Frequency\n",
    "    'Amount': 'sum'                                    # Monetary\n",
    "}).reset_index()\n",
    "\n",
    "rfm.columns = ['Customer Name', 'Recency', 'Frequency', 'Monetary']\n",
    "\n",
    "# Assign scores\n",
    "rfm['R_Score'] = pd.qcut(rfm['Recency'].rank(method='first'), 5, labels=[5,4,3,2,1])\n",
    "rfm['F_Score'] = pd.qcut(rfm['Frequency'].rank(method='first'), 5, labels=[1,2,3,4,5])\n",
    "rfm['M_Score'] = pd.qcut(rfm['Monetary'].rank(method='first'), 5, labels=[1,2,3,4,5])\n",
    "\n",
    "# Concatenate into a segment\n",
    "rfm['RFM_Segment'] = rfm['R_Score'].astype(str) + rfm['F_Score'].astype(str) + rfm['M_Score'].astype(str)\n",
    "rfm['RFM_Score'] = rfm[['R_Score', 'F_Score', 'M_Score']].astype(int).sum(axis=1)\n",
    "\n",
    "rfm.sort_values('RFM_Score', ascending=False)\n"
   ]
  },
  {
   "cell_type": "code",
   "execution_count": null,
   "id": "f22c2c92-485b-4456-b995-894eefa54d4d",
   "metadata": {},
   "outputs": [],
   "source": [
    "df['Month'] = df['Date'].dt.to_period('M')\n",
    "\n",
    "monthly_sales = df.groupby('Month')['Amount'].sum().reset_index()\n",
    "monthly_sales.columns = ['Month', 'Total Revenue']\n",
    "\n",
    "monthly_sales"
   ]
  },
  {
   "cell_type": "code",
   "execution_count": null,
   "id": "3cfc3d9b-debb-4789-abef-408869989820",
   "metadata": {},
   "outputs": [],
   "source": [
    "buyer_counts = df.groupby('Customer Name')['Order ID'].nunique().sort_values(ascending=False).reset_index()\n",
    "buyer_counts.columns = ['Customer Name', 'Order Count']\n",
    "\n",
    "buyer_counts.head(10)"
   ]
  },
  {
   "cell_type": "code",
   "execution_count": null,
   "id": "7b485ec9-6e00-42d8-95db-9b39bda2bd34",
   "metadata": {},
   "outputs": [],
   "source": [
    "monthly_orders = df.groupby('Month').agg({\n",
    "    'Order ID': 'nunique',\n",
    "    'Amount': 'sum'\n",
    "}).reset_index()\n",
    "\n",
    "monthly_orders['AOV'] = monthly_orders['Amount'] / monthly_orders['Order ID']\n",
    "monthly_orders.columns = ['Month', 'Order Count', 'Total Sales', 'Avg Order Value']\n",
    "\n",
    "monthly_orders\n"
   ]
  },
  {
   "cell_type": "code",
   "execution_count": null,
   "id": "81064d3e-8ec8-403e-9288-ab050a010b2d",
   "metadata": {},
   "outputs": [],
   "source": [
    "import matplotlib.pyplot as plt\n",
    "\n",
    "# Ensure Date column is datetime\n",
    "df['Date'] = pd.to_datetime(df['Date'], errors='coerce')\n",
    "\n",
    "# Monthly sales trend\n",
    "monthly_sales = df.groupby(df['Date'].dt.to_period('M'))['Amount'].sum().reset_index()\n",
    "monthly_sales['Date'] = monthly_sales['Date'].dt.to_timestamp()\n",
    "\n",
    "# Plot\n",
    "plt.figure(figsize=(10, 5))\n",
    "plt.plot(monthly_sales['Date'], monthly_sales['Amount'], marker='o', color='teal')\n",
    "plt.title('Monthly Sales Trend')\n",
    "plt.xlabel('Month')\n",
    "plt.ylabel('Total Sales (₹)')\n",
    "plt.grid(True)\n",
    "plt.tight_layout()\n",
    "plt.show()\n"
   ]
  },
  {
   "cell_type": "code",
   "execution_count": null,
   "id": "3ad4467f-1eed-446b-a3db-bd13ac4585fe",
   "metadata": {},
   "outputs": [],
   "source": [
    "product_cols = [col for col in df.columns if col not in ['Order ID', 'Customer Name', 'Date', 'Amount']]\n",
    "\n",
    "df[product_cols] = df[product_cols].apply(pd.to_numeric, errors='coerce')\n",
    "\n",
    "product_sales = df[product_cols].sum().sort_values(ascending=False)\n",
    "product_sales_df = product_sales.reset_index()\n",
    "product_sales_df.columns = ['Product Name', 'Total Units Sold']\n",
    "\n",
    "product_sales_df"
   ]
  },
  {
   "cell_type": "code",
   "execution_count": null,
   "id": "18d5f43d-138f-481b-b0f2-70923e1ebaa5",
   "metadata": {},
   "outputs": [],
   "source": [
    "monthly_qty = df_cleaned.groupby(['Month', 'Product Name'])['Qty'].sum().reset_index()\n",
    "monthly_revenue = df_cleaned.groupby(['Month', 'Product Name'])['Amount'].sum().reset_index()"
   ]
  },
  {
   "cell_type": "code",
   "execution_count": null,
   "id": "54f81b6d-aa97-42ac-9c38-8f48f60d7258",
   "metadata": {},
   "outputs": [],
   "source": [
    "import seaborn as sns\n",
    "\n",
    "# Pivot to create matrix: rows = products, columns = months\n",
    "heatmap_data = monthly_qty.pivot(index='Product Name', columns='Month', values='Qty').fillna(0)\n",
    "\n",
    "plt.figure(figsize=(12, 8))\n",
    "sns.heatmap(heatmap_data, cmap='YlGnBu', linewidths=0.5)\n",
    "plt.title('Monthly Quantity Sold per Product')\n",
    "plt.xlabel('Month')\n",
    "plt.ylabel('Product Name')\n",
    "plt.tight_layout()\n",
    "plt.show()\n"
   ]
  }
 ],
 "metadata": {
  "kernelspec": {
   "display_name": "Python 3 (ipykernel)",
   "language": "python",
   "name": "python3"
  },
  "language_info": {
   "codemirror_mode": {
    "name": "ipython",
    "version": 3
   },
   "file_extension": ".py",
   "mimetype": "text/x-python",
   "name": "python",
   "nbconvert_exporter": "python",
   "pygments_lexer": "ipython3",
   "version": "3.11.7"
  }
 },
 "nbformat": 4,
 "nbformat_minor": 5
}
